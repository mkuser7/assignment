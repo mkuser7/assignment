{
 "cells": [
  {
   "cell_type": "code",
   "execution_count": null,
   "id": "293f5aa1-5294-4799-b787-f70d4860d70b",
   "metadata": {},
   "outputs": [],
   "source": []
  },
  {
   "cell_type": "code",
   "execution_count": 1,
   "id": "20b0b136-906d-4bf5-8c98-0daac9ee2d92",
   "metadata": {},
   "outputs": [
    {
     "name": "stdin",
     "output_type": "stream",
     "text": [
      "Enter first number:  2\n",
      "Enter second number:  3\n",
      "Choose operation (+, -, *, /):  /\n"
     ]
    },
    {
     "name": "stdout",
     "output_type": "stream",
     "text": [
      "Result: 0.6666666666666666\n"
     ]
    }
   ],
   "source": [
    "a = float(input(\"Enter first number: \"))\n",
    "b = float(input(\"Enter second number: \"))\n",
    "op = input(\"Choose operation (+, -, *, /): \")\n",
    "\n",
    "if op == '+':\n",
    "    print(\"Result:\", a + b)\n",
    "elif op == '-':\n",
    "    print(\"Result:\", a - b)\n",
    "elif op == '*':\n",
    "    print(\"Result:\", a * b)\n",
    "elif op == '/':\n",
    "    if b != 0:\n",
    "        print(\"Result:\", a / b)\n",
    "    else:\n",
    "        print(\"Cannot divide by zero.\")"
   ]
  },
  {
   "cell_type": "code",
   "execution_count": 2,
   "id": "a6f5aa44-00ed-4067-897a-0abf545d73a8",
   "metadata": {},
   "outputs": [
    {
     "name": "stdin",
     "output_type": "stream",
     "text": [
      "Enter a decimal number:  2\n"
     ]
    },
    {
     "name": "stdout",
     "output_type": "stream",
     "text": [
      "Binary: 10\n"
     ]
    }
   ],
   "source": [
    "num = int(input(\"Enter a decimal number: \"))\n",
    "print(\"Binary:\", bin(num)[2:])"
   ]
  },
  {
   "cell_type": "code",
   "execution_count": 3,
   "id": "47a86d78-66e3-45a1-99e1-4146347b9189",
   "metadata": {},
   "outputs": [
    {
     "name": "stdin",
     "output_type": "stream",
     "text": [
      "Enter your age:  34\n"
     ]
    },
    {
     "name": "stdout",
     "output_type": "stream",
     "text": [
      "You're an adult.\n"
     ]
    }
   ],
   "source": [
    "age = int(input(\"Enter your age: \"))\n",
    "if age < 18:\n",
    "    print(\"You're a minor.\")\n",
    "elif age < 65:\n",
    "    print(\"You're an adult.\")\n",
    "else:\n",
    "    print(\"You're a senior.\")"
   ]
  },
  {
   "cell_type": "code",
   "execution_count": 4,
   "id": "5ba32ff8-4c87-4f91-b403-087b1d4ca277",
   "metadata": {},
   "outputs": [
    {
     "name": "stdin",
     "output_type": "stream",
     "text": [
      "a =  23\n",
      "b =  34\n"
     ]
    },
    {
     "name": "stdout",
     "output_type": "stream",
     "text": [
      "After swap: a = 34 b = 23\n"
     ]
    }
   ],
   "source": [
    "a = int(input(\"a = \"))\n",
    "b = int(input(\"b = \"))\n",
    "a, b = b, a\n",
    "print(\"After swap: a =\", a, \"b =\", b)"
   ]
  },
  {
   "cell_type": "code",
   "execution_count": 5,
   "id": "55c4f7b9-16c1-44dc-a8f8-79c2ca7c9051",
   "metadata": {},
   "outputs": [
    {
     "name": "stdout",
     "output_type": "stream",
     "text": [
      "0 1 1 2 3 5 8 13 21 34 "
     ]
    }
   ],
   "source": [
    "# 5. First 10 Fibonacci Numbers\n",
    "a, b = 0, 1\n",
    "for _ in range(10):\n",
    "    print(a, end=' ')\n",
    "    a, b = b, a + b"
   ]
  },
  {
   "cell_type": "code",
   "execution_count": 6,
   "id": "9bb8a02c-1e89-4247-929b-61acbec870f9",
   "metadata": {},
   "outputs": [
    {
     "name": "stdin",
     "output_type": "stream",
     "text": [
      "Enter a number:  3\n"
     ]
    },
    {
     "name": "stdout",
     "output_type": "stream",
     "text": [
      "Prime number\n"
     ]
    }
   ],
   "source": [
    "# 6. Prime Number Checker\n",
    "num = int(input(\"Enter a number: \"))\n",
    "if num > 1:\n",
    "    for i in range(2, int(num ** 0.5) + 1):\n",
    "        if num % i == 0:\n",
    "            print(\"Not prime\")\n",
    "            break\n",
    "    else:\n",
    "        print(\"Prime number\")\n",
    "else:\n",
    "    print(\"Not prime\")"
   ]
  },
  {
   "cell_type": "code",
   "execution_count": 7,
   "id": "ae0a8251-9f1b-434e-b6dd-3b6388e2b9df",
   "metadata": {},
   "outputs": [
    {
     "name": "stdin",
     "output_type": "stream",
     "text": [
      "First:  6\n",
      "Second:  7\n",
      "Third:  8\n"
     ]
    },
    {
     "name": "stdout",
     "output_type": "stream",
     "text": [
      "Third is NOT the sum of first two.\n"
     ]
    }
   ],
   "source": [
    "# 7. Check if Third Number is Sum of First Two\n",
    "a = int(input(\"First: \"))\n",
    "b = int(input(\"Second: \"))\n",
    "c = int(input(\"Third: \"))\n",
    "if c == a + b:\n",
    "    print(\"Third is the sum of first two.\")\n",
    "else:\n",
    "    print(\"Third is NOT the sum of first two.\")"
   ]
  },
  {
   "cell_type": "code",
   "execution_count": 10,
   "id": "e8c5ab32-15f6-48b0-8e2d-004732ccf92a",
   "metadata": {},
   "outputs": [
    {
     "name": "stdin",
     "output_type": "stream",
     "text": [
      "Enter numerator:  2\n",
      "Enter denominator:  8\n"
     ]
    },
    {
     "name": "stdout",
     "output_type": "stream",
     "text": [
      "Result: 0.25\n"
     ]
    }
   ],
   "source": [
    "# 9. Division with Zero Handling\n",
    "try:\n",
    "    a = float(input(\"Enter numerator: \"))\n",
    "    b = float(input(\"Enter denominator: \"))\n",
    "    print(\"Result:\", a / b)\n",
    "except ZeroDivisionError:\n",
    "    print(\"Cannot divide by zero.\")\n",
    "    "
   ]
  },
  {
   "cell_type": "code",
   "execution_count": 11,
   "id": "abfd6ab3-8e04-439e-a573-32105e5986c5",
   "metadata": {},
   "outputs": [
    {
     "name": "stdout",
     "output_type": "stream",
     "text": [
      "8\n"
     ]
    }
   ],
   "source": [
    "# 10. Find Maximum in List\n",
    "def find_max(lst):\n",
    "    return max(lst)\n",
    "\n",
    "print(find_max([5, 3, 8, 2]))"
   ]
  },
  {
   "cell_type": "code",
   "execution_count": 12,
   "id": "5832f1e4-84a2-4e0d-805f-cc0d250f3d8f",
   "metadata": {},
   "outputs": [
    {
     "name": "stdout",
     "output_type": "stream",
     "text": [
      "Hello, Manjit. You are 25 years old.\n",
      "Hello, Alex. You are 30 years old.\n"
     ]
    }
   ],
   "source": [
    "# 11. Greeting with Optional Age\n",
    "def greet(name, age=25):\n",
    "    print(f\"Hello, {name}. You are {age} years old.\")\n",
    "\n",
    "greet(\"Manjit\")\n",
    "greet(\"Alex\", 30)"
   ]
  },
  {
   "cell_type": "code",
   "execution_count": 14,
   "id": "1b83d266-4324-46ef-b1c2-56ffff11ba7b",
   "metadata": {},
   "outputs": [
    {
     "name": "stdin",
     "output_type": "stream",
     "text": [
      "Enter a string:  a\n"
     ]
    },
    {
     "name": "stdout",
     "output_type": "stream",
     "text": [
      "Vowel count: 1\n"
     ]
    }
   ],
   "source": [
    "# 12. Count Vowels in String\n",
    "s = input(\"Enter a string: \").lower()\n",
    "count = sum(1 for char in s if char in 'aeiou')\n",
    "print(\"Vowel count:\", count)"
   ]
  },
  {
   "cell_type": "code",
   "execution_count": 15,
   "id": "cdda7918-d34a-45eb-aa7a-4a0f860fbb50",
   "metadata": {},
   "outputs": [
    {
     "name": "stdin",
     "output_type": "stream",
     "text": [
      "Enter a number:  6\n"
     ]
    },
    {
     "name": "stdout",
     "output_type": "stream",
     "text": [
      "6 x 1 = 6\n",
      "6 x 2 = 12\n",
      "6 x 3 = 18\n",
      "6 x 4 = 24\n",
      "6 x 5 = 30\n",
      "6 x 6 = 36\n",
      "6 x 7 = 42\n",
      "6 x 8 = 48\n",
      "6 x 9 = 54\n",
      "6 x 10 = 60\n"
     ]
    }
   ],
   "source": [
    "# 13. Multiplication Table up to 10\n",
    "n = int(input(\"Enter a number: \"))\n",
    "for i in range(1, 11):\n",
    "    print(f\"{n} x {i} = {n * i}\")"
   ]
  },
  {
   "cell_type": "code",
   "execution_count": 16,
   "id": "2674aec7-7ca0-49b5-ae8c-bf8897e54f5f",
   "metadata": {},
   "outputs": [
    {
     "name": "stdin",
     "output_type": "stream",
     "text": [
      "Number of rows:  5\n"
     ]
    },
    {
     "name": "stdout",
     "output_type": "stream",
     "text": [
      "*\n",
      "**\n",
      "***\n",
      "****\n",
      "*****\n"
     ]
    }
   ],
   "source": [
    "# 14. Right-Angled Triangle of Stars\n",
    "rows = int(input(\"Number of rows: \"))\n",
    "for i in range(1, rows + 1):\n",
    "    print('*' * i)"
   ]
  },
  {
   "cell_type": "code",
   "execution_count": 17,
   "id": "74b2af56-2256-4a83-affe-4804f2283be6",
   "metadata": {},
   "outputs": [
    {
     "name": "stdin",
     "output_type": "stream",
     "text": [
      "Number of rows:  5\n"
     ]
    },
    {
     "name": "stdout",
     "output_type": "stream",
     "text": [
      "    *\n",
      "   ***\n",
      "  *****\n",
      " *******\n",
      "*********\n"
     ]
    }
   ],
   "source": [
    "# 15. Star Pyramid\n",
    "rows = int(input(\"Number of rows: \"))\n",
    "for i in range(rows):\n",
    "    print(' ' * (rows - i - 1) + '*' * (2 * i + 1))"
   ]
  },
  {
   "cell_type": "code",
   "execution_count": 18,
   "id": "f35a5bb5-b956-46b2-a695-19b30fe2ec3f",
   "metadata": {},
   "outputs": [
    {
     "name": "stdout",
     "output_type": "stream",
     "text": [
      "True\n"
     ]
    }
   ],
   "source": [
    "#SET B\n",
    "\n",
    "# 1. Palindrome Number\n",
    "def is_palindrome(x):\n",
    "    return str(x) == str(x)[::-1]\n",
    "\n",
    "\n",
    "print(is_palindrome(121))  "
   ]
  },
  {
   "cell_type": "code",
   "execution_count": 19,
   "id": "3a16ae80-6f03-4c20-921b-b7b5aef3904a",
   "metadata": {},
   "outputs": [
    {
     "name": "stdout",
     "output_type": "stream",
     "text": [
      "4\n"
     ]
    }
   ],
   "source": [
    "# 2. Single Number (Using XOR)\n",
    "def single_number(nums):\n",
    "    result = 0\n",
    "    for num in nums:\n",
    "        result ^= num\n",
    "    return result\n",
    "\n",
    "\n",
    "print(single_number([4, 1, 2, 1, 2])) "
   ]
  },
  {
   "cell_type": "code",
   "execution_count": 20,
   "id": "e8ea41af-f381-4296-90fa-83155b3af782",
   "metadata": {},
   "outputs": [
    {
     "name": "stdout",
     "output_type": "stream",
     "text": [
      "[0, 1]\n"
     ]
    }
   ],
   "source": [
    "# 3. Two Sum (Hash Map Approach)\n",
    "def two_sum(nums, target):\n",
    "    index_map = {}\n",
    "    for i, num in enumerate(nums):\n",
    "        diff = target - num\n",
    "        if diff in index_map:\n",
    "            return [index_map[diff], i]\n",
    "        index_map[num] = i\n",
    "\n",
    "\n",
    "print(two_sum([2, 7, 11, 15], 9))  "
   ]
  },
  {
   "cell_type": "code",
   "execution_count": 21,
   "id": "f682f6ee-2e25-4b4c-8f6e-7e17cae98864",
   "metadata": {},
   "outputs": [
    {
     "name": "stdout",
     "output_type": "stream",
     "text": [
      "True\n"
     ]
    }
   ],
   "source": [
    "# 4. Happy Number\n",
    "def is_happy(n):\n",
    "    visited = set()\n",
    "    while n != 1 and n not in visited:\n",
    "        visited.add(n)\n",
    "        n = sum(int(digit)**2 for digit in str(n))\n",
    "    return n == 1\n",
    "\n",
    "\n",
    "print(is_happy(19))  "
   ]
  },
  {
   "cell_type": "code",
   "execution_count": 22,
   "id": "4deba201-39c3-4349-9ff6-07f6c8a61f49",
   "metadata": {},
   "outputs": [
    {
     "name": "stdout",
     "output_type": "stream",
     "text": [
      "True\n"
     ]
    }
   ],
   "source": [
    "# 5. Contains Duplicate\n",
    "def contains_duplicate(nums):\n",
    "    return len(nums) != len(set(nums))\n",
    "\n",
    "\n",
    "print(contains_duplicate([1, 2, 3, 1]))  "
   ]
  },
  {
   "cell_type": "code",
   "execution_count": null,
   "id": "d598f3e3-24e5-4fb4-b8fc-9e78be47cbf3",
   "metadata": {},
   "outputs": [],
   "source": []
  }
 ],
 "metadata": {
  "kernelspec": {
   "display_name": "Python 3 (ipykernel)",
   "language": "python",
   "name": "python3"
  },
  "language_info": {
   "codemirror_mode": {
    "name": "ipython",
    "version": 3
   },
   "file_extension": ".py",
   "mimetype": "text/x-python",
   "name": "python",
   "nbconvert_exporter": "python",
   "pygments_lexer": "ipython3",
   "version": "3.12.7"
  }
 },
 "nbformat": 4,
 "nbformat_minor": 5
}
